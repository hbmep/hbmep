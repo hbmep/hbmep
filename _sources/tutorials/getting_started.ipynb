{
 "cells": [
  {
   "cell_type": "markdown",
   "metadata": {},
   "source": [
    "(getting_started)=\n",
    "# Getting Started\n"
   ]
  },
  {
   "cell_type": "markdown",
   "metadata": {},
   "source": [
    "We're going to demonstrate how to estimate recruitment curves using a hierarchical Bayesian model and the rectified-logistic function.\n"
   ]
  },
  {
   "cell_type": "markdown",
   "metadata": {},
   "source": [
    "## A Simple Example\n",
    "```{eval-rst}\n",
    ".. tip::\n",
    "\n",
    "    If you have trouble running the commands in this tutorial, please copy the command\n",
    "    and its output, then `open an issue <https://github.com/hbmep/hbmep/issues/new/choose>`_ on our GitHub repository. We'll do our best to help you!\n",
    "```\n"
   ]
  },
  {
   "cell_type": "markdown",
   "metadata": {},
   "source": [
    "Begin by reading the [mock_data.csv](https://raw.githubusercontent.com/hbmep/hbmep/docs-data/data/mock_data.csv) file:\n"
   ]
  },
  {
   "cell_type": "code",
   "execution_count": 1,
   "metadata": {},
   "outputs": [],
   "source": [
    "import pandas as pd\n",
    "\n",
    "url = \"https://raw.githubusercontent.com/hbmep/hbmep/refs/heads/docs-data/data/mock_data.csv\"\n",
    "df = pd.read_csv(url)\n"
   ]
  },
  {
   "cell_type": "code",
   "execution_count": 2,
   "metadata": {
    "tags": [
     "remove-input"
    ]
   },
   "outputs": [
    {
     "name": "stdout",
     "output_type": "stream",
     "text": [
      "df shape:\t\t(245, 4)\n",
      "df columns:\t\tTMSIntensity, participant, PKPK_ECR, PKPK_FCR\n",
      "All participants:\tP1, P2, P3\n",
      "\n",
      "First 5 rows:\n",
      "\n",
      "   TMSIntensity participant  PKPK_ECR  PKPK_FCR\n",
      "0         43.79          P1     0.197     0.048\n",
      "1         55.00          P1     0.224     0.068\n",
      "2         41.00          P1     0.112     0.110\n",
      "3         43.00          P1     0.149     0.058\n",
      "4         14.00          P1     0.014     0.011\n"
     ]
    }
   ],
   "source": [
    "print(f\"df shape:\\t\\t{df.shape}\")\n",
    "print(f\"df columns:\\t\\t{', '.join(df.columns.tolist())}\")\n",
    "print(f\"All participants:\\t{', '.join(df['participant'].unique().tolist())}\")\n",
    "\n",
    "n = 5\n",
    "print(f\"\\nFirst {n} rows:\\n\\n{df.head(n=n).to_string()}\")"
   ]
  },
  {
   "cell_type": "markdown",
   "metadata": {},
   "source": [
    "This dataset contains TMS responses (peak-to-peak amplitude, in mV) for three participants (P1, P2, P3), recorded from two muscles (ECR and FCR). \n",
    "The column `TMSIntensity` represents stimulation intensity in percent maximum stimulator output (0–100% MSO).\n"
   ]
  },
  {
   "cell_type": "markdown",
   "metadata": {
    "vscode": {
     "languageId": "plaintext"
    }
   },
   "source": [
    "## Build the model\n"
   ]
  },
  {
   "cell_type": "markdown",
   "metadata": {},
   "source": [
    "(build-the-model)=\n",
    "Next, we initialize a standard hierarchical Bayesian model. This step typically consists of assigning the model’s attributes to the appropriate dataframe columns, setting the sampling parameters, and choosing the recruitment curve function.\n"
   ]
  },
  {
   "cell_type": "code",
   "execution_count": 3,
   "metadata": {
    "tags": [
     "remove-output"
    ]
   },
   "outputs": [
    {
     "name": "stderr",
     "output_type": "stream",
     "text": [
      "/home/vishu/repos/refactor/fix/hbmep/.venv/lib/python3.11/site-packages/tqdm/auto.py:21: TqdmWarning: IProgress not found. Please update jupyter and ipywidgets. See https://ipywidgets.readthedocs.io/en/stable/user_install.html\n",
      "  from .autonotebook import tqdm as notebook_tqdm\n"
     ]
    }
   ],
   "source": [
    "from hbmep.model.standard import HB\n",
    "\n",
    "model = HB()\n",
    "\n",
    "# Point to the respective columns in dataframe\n",
    "model.intensity = \"TMSIntensity\"\n",
    "model.features = [\"participant\"]\n",
    "model.response = [\"PKPK_ECR\", \"PKPK_FCR\"]\n",
    "\n",
    "# Specify the sampling parameters\n",
    "model.mcmc_params = {\n",
    "    \"num_chains\": 4,\n",
    "    \"thinning\": 1,\n",
    "    \"num_warmup\": 1000,\n",
    "    \"num_samples\": 1000,\n",
    "}\n",
    "\n",
    "# Set the function\n",
    "model._model = model.rectified_logistic\n"
   ]
  },
  {
   "cell_type": "markdown",
   "metadata": {},
   "source": [
    "Alternatively, these settings can be specified in an [hbmep.toml](https://github.com/hbmep/hbmep/blob/docs-data/configs/config.toml) configuration file without having to change the code directly. See {ref}`working-with-toml-configuration-files` for details.\n"
   ]
  },
  {
   "cell_type": "markdown",
   "metadata": {},
   "source": [
    "## Running the model\n"
   ]
  },
  {
   "cell_type": "markdown",
   "metadata": {},
   "source": [
    "Before fitting the model, we can visualize the dataset. Since the plot is saved as a PDF, we need to specify an output path.\n"
   ]
  },
  {
   "cell_type": "code",
   "execution_count": 4,
   "metadata": {},
   "outputs": [],
   "source": [
    "import os\n",
    "\n",
    "current_directory = os.getcwd()\n",
    "output_path = os.path.join(current_directory, \"dataset.pdf\")\n",
    "\n",
    "# Plot dataset and save it as a PDF\n",
    "model.plot(df, output_path=output_path)\n"
   ]
  },
  {
   "cell_type": "code",
   "execution_count": 5,
   "metadata": {
    "tags": [
     "remove-input",
     "remove-output"
    ]
   },
   "outputs": [],
   "source": [
    "import matplotlib.pyplot as plt\n",
    "from matplotlib.ticker import MaxNLocator\n",
    "import seaborn as sns\n",
    "from hbmep.util import site, generate_response_colors\n",
    "\n",
    "def plot(\n",
    "    df,\n",
    "    *,\n",
    "    intensity,\n",
    "    features,\n",
    "    response,\n",
    "    encoder=None,\n",
    "    posterior=None,\n",
    "    prediction_df=None,\n",
    "    predictive=None\n",
    "):\n",
    "\n",
    "    df_features = df[features].apply(tuple, axis=1)\n",
    "    combinations = sorted(df_features.unique().tolist())\n",
    "    num_combinations = len(combinations)\n",
    "    num_response = len(response)\n",
    "    colors = generate_response_colors(num_response)\n",
    "\n",
    "    nr, nc = num_combinations, num_response\n",
    "    kr, kc = 1, 1\n",
    "    heights = [1] * nr\n",
    "    figsize = (6, 6)\n",
    "    if prediction_df is not None:\n",
    "        kr = 2\n",
    "        heights = [1, .5] * nr\n",
    "        figsize = (6, 8)\n",
    "        pred_features = prediction_df[features].apply(tuple, axis=1)\n",
    "        mu = predictive[site.mu]\n",
    "        a = posterior[site.a]\n",
    "\n",
    "    fig, axes = plt.subplots(\n",
    "        *(nr * kr, nc * kc), figsize=figsize, constrained_layout=True,\n",
    "        squeeze=False, sharex=True, height_ratios=heights\n",
    "    )\n",
    "\n",
    "    for i in range(num_combinations):\n",
    "        combination = combinations[i]\n",
    "        idx = df_features.isin([combination])\n",
    "        curr_df = df[idx].reset_index(drop=True).copy()\n",
    "\n",
    "        if prediction_df is not None:\n",
    "            idx = pred_features.isin([combination])\n",
    "            curr_pred = prediction_df[idx].reset_index(drop=True).copy()\n",
    "            curr_mu = mu[:, idx]\n",
    "\n",
    "        for j in range(num_response):\n",
    "            ax = axes[i * kr, j * kc]\n",
    "            x = curr_df[intensity]\n",
    "            response_name = response[j]\n",
    "            y = curr_df[response_name]\n",
    "            sns.scatterplot(x=x, y=y, ax=ax, color=colors[j], s=25)\n",
    "            ax.set_xlabel(\"\")\n",
    "            ax.set_ylabel(\"\")\n",
    "            # ax.xaxis.set_major_locator(MaxNLocator(nbins=3))\n",
    "            ax.yaxis.set_major_locator(MaxNLocator(nbins=3))\n",
    "            if not i:\n",
    "                ax.set_title(response_name, fontsize=12)\n",
    "            if not j:\n",
    "                if encoder is None:\n",
    "                    ax.set_ylabel(\", \".join(combination), fontsize=12)\n",
    "                else:\n",
    "                    combination_inv = tuple(\n",
    "                        encoder[features[0]].inverse_transform([u])[0]\n",
    "                        for u in combination\n",
    "                    )\n",
    "                    ax.set_ylabel(f\", \".join(combination_inv), fontsize=12)\n",
    "            \n",
    "            if prediction_df is not None:\n",
    "                x = curr_pred[intensity]\n",
    "                y = curr_mu[..., j].mean(axis=0)\n",
    "                sns.lineplot(x=x, y=y, ax=ax, color=colors[j])\n",
    "\n",
    "                ax = axes[i * kr + 1, j * kc]\n",
    "                samples = a[:, *combination, j]\n",
    "                sns.kdeplot(samples, color=colors[j], ax=ax)\n",
    "                ax.set_xlabel(\"\")\n",
    "                ax.set_ylabel(\"\")\n",
    "                ax.text(\n",
    "                    0.02, 0.7, (*combination, j), fontsize=10,\n",
    "                    va=\"bottom\", ha=\"left\", transform=ax.transAxes\n",
    "                )\n",
    "        \n",
    "        miny, maxy = float('inf'), float('-inf')\n",
    "        for j in range(num_response):\n",
    "            ax = axes[i * kr, j * kc]\n",
    "            lo, hi = ax.get_ylim()\n",
    "            miny = min(miny, lo)\n",
    "            maxy = max(maxy, hi)\n",
    "            ax.sharey(axes[i * kr, 0])\n",
    "        ax = axes[i * kr, 0]\n",
    "        ax.set_ylim(miny, maxy)\n",
    "\n",
    "    for i in range(nr):\n",
    "        for j in range(nc):\n",
    "            ax = axes[i * kr, j * kc]\n",
    "            ax.spines[['right', 'top']].set_visible(False)\n",
    "            ax.tick_params(axis=\"x\", labelbottom=True)\n",
    "\n",
    "            if prediction_df is not None:\n",
    "                ax = axes[i * kr + 1, j * kc]\n",
    "                ax.spines[['right', 'top']].set_visible(False)\n",
    "                ax.tick_params(axis=\"both\", left=False, labelbottom=True, labelleft=False)\n",
    "\n",
    "    fig.align_xlabels()\n",
    "    fig.align_ylabels()\n"
   ]
  },
  {
   "cell_type": "code",
   "execution_count": 6,
   "metadata": {
    "tags": [
     "remove-input"
    ]
   },
   "outputs": [
    {
     "data": {
      "image/png": "[encoded data removed]",
      "text/plain": [
       "<Figure size 600x600 with 6 Axes>"
      ]
     },
     "metadata": {},
     "output_type": "display_data"
    }
   ],
   "source": [
    "plot(df=df, **model.variables)\n"
   ]
  },
  {
   "cell_type": "markdown",
   "metadata": {},
   "source": [
    "The plot shows rows as participants and columns as muscles. The x-axis is TMS intensity (% MSO), and the y-axis is MEP peak-to-peak amplitude (mV).\n"
   ]
  },
  {
   "cell_type": "markdown",
   "metadata": {},
   "source": [
    "Next, we process the dataframe by encoding categorical feature columns. This returns the same dataframe with encoded values, plus an encoder dictionary for mapping back to original labels.\n"
   ]
  },
  {
   "cell_type": "code",
   "execution_count": 7,
   "metadata": {},
   "outputs": [],
   "source": [
    "# Process the dataframe\n",
    "df, encoder = model.load(df)\n"
   ]
  },
  {
   "cell_type": "code",
   "execution_count": 8,
   "metadata": {
    "tags": [
     "remove-input"
    ]
   },
   "outputs": [
    {
     "name": "stdout",
     "output_type": "stream",
     "text": [
      "Encoded participants:\t0, 1, 2\n",
      "Participant mapping:\t0 -> P1, 1 -> P2, 2 -> P3\n"
     ]
    }
   ],
   "source": [
    "print(f\"Encoded participants:\\t{', '.join(map(str, df['participant'].unique().tolist()))}\")\n",
    "\n",
    "f = sorted(df[model.features[0]].unique().tolist())\n",
    "finv = encoder[model.features[0]].inverse_transform(f)\n",
    "f = map(str, f)\n",
    "mapping = [\" -> \".join(u) for u in list(zip(f, finv))]\n",
    "print(f\"Participant mapping:\\t{', '.join(mapping)}\")\n"
   ]
  },
  {
   "cell_type": "markdown",
   "metadata": {},
   "source": [
    "Now we run the model to estimate curves.\n"
   ]
  },
  {
   "cell_type": "code",
   "execution_count": 9,
   "metadata": {
    "tags": [
     "hide-output"
    ]
   },
   "outputs": [
    {
     "name": "stderr",
     "output_type": "stream",
     "text": [
      "WARNING:2025-09-10 13:37:55,646:jax._src.xla_bridge:864: An NVIDIA GPU may be present on this machine, but a CUDA-enabled jaxlib is not installed. Falling back to cpu.\n"
     ]
    },
    {
     "name": "stderr",
     "output_type": "stream",
     "text": [
      "Compiling.. :   0%|          | 0/2000 [00:00<?, ?it/s]\n",
      "\u001b[A\n",
      "\u001b[A\n",
      "\n",
      "\u001b[A\u001b[A\n",
      "\n",
      "Running chain 0:   0%|          | 0/2000 [00:02<?, ?it/s]\n",
      "\u001b[A\n",
      "\n",
      "\u001b[A\u001b[A\n",
      "\n",
      "\u001b[A\u001b[A\n",
      "Running chain 0:   5%|▌         | 100/2000 [00:05<01:07, 28.04it/s]\n",
      "\n",
      "\u001b[A\u001b[A\n",
      "\u001b[A\n",
      "\n",
      "Running chain 0:  10%|█         | 200/2000 [00:06<00:36, 49.70it/s]\n",
      "\n",
      "\u001b[A\u001b[A\n",
      "Running chain 0:  15%|█▌        | 300/2000 [00:07<00:24, 70.24it/s]\n",
      "\n",
      "\u001b[A\u001b[A\n",
      "Running chain 0:  20%|██        | 400/2000 [00:07<00:17, 93.04it/s]\n",
      "\n",
      "\u001b[A\u001b[A\n",
      "\u001b[A\n",
      "\u001b[A\n",
      "\n",
      "Running chain 0:  25%|██▌       | 500/2000 [00:08<00:13, 107.38it/s]\n",
      "\u001b[A\n",
      "\n",
      "\u001b[A\u001b[A\n",
      "Running chain 0:  30%|███       | 600/2000 [00:09<00:11, 125.25it/s]\n",
      "\n",
      "\u001b[A\u001b[A\n",
      "Running chain 0:  35%|███▌      | 700/2000 [00:09<00:08, 146.29it/s]\n",
      "\n",
      "Running chain 0:  40%|████      | 800/2000 [00:09<00:07, 166.56it/s]\n",
      "Running chain 0:  45%|████▌     | 900/2000 [00:10<00:06, 182.06it/s]\n",
      "\n",
      "\u001b[A\u001b[A\n",
      "Running chain 0:  50%|█████     | 1000/2000 [00:10<00:05, 192.61it/s]\n",
      "\n",
      "\u001b[A\u001b[A\n",
      "Running chain 0:  55%|█████▌    | 1100/2000 [00:11<00:04, 193.64it/s]\n",
      "\n",
      "\u001b[A\u001b[A\n",
      "Running chain 0:  60%|██████    | 1200/2000 [00:11<00:04, 186.25it/s]\n",
      "\n",
      "\u001b[A\u001b[A\n",
      "Running chain 0:  65%|██████▌   | 1300/2000 [00:12<00:03, 183.70it/s]\n",
      "\n",
      "\u001b[A\u001b[A\n",
      "Running chain 0:  70%|███████   | 1400/2000 [00:12<00:03, 185.69it/s]\n",
      "\n",
      "\u001b[A\u001b[A\n",
      "Running chain 0:  75%|███████▌  | 1500/2000 [00:13<00:02, 178.36it/s]\n",
      "\n",
      "\u001b[A\u001b[A\n",
      "Running chain 0:  80%|████████  | 1600/2000 [00:14<00:02, 176.14it/s]\n",
      "\n",
      "\u001b[A\u001b[A\n",
      "Running chain 0:  85%|████████▌ | 1700/2000 [00:14<00:01, 178.43it/s]\n",
      "\n",
      "\u001b[A\u001b[A\n",
      "Running chain 0:  90%|█████████ | 1800/2000 [00:15<00:01, 179.44it/s]\n",
      "\n",
      "Running chain 3: 100%|██████████| 2000/2000 [00:15<00:00, 130.38it/s]\n",
      "\n",
      "Running chain 2: 100%|██████████| 2000/2000 [00:15<00:00, 129.55it/s]\n",
      "Running chain 1: 100%|██████████| 2000/2000 [00:15<00:00, 128.48it/s]\n",
      "Running chain 0: 100%|██████████| 2000/2000 [00:16<00:00, 122.60it/s]\n"
     ]
    },
    {
     "name": "stdout",
     "output_type": "stream",
     "text": [
      "                mean     sd  hdi_2.5%  hdi_97.5%  mcse_mean  mcse_sd  ess_bulk  ess_tail  r_hat\n",
      "a_loc         35.418  5.576    24.891     47.705      0.157    0.299    2321.0     869.0    1.0\n",
      "a_scale       11.170  7.101     3.772     25.594      0.231    0.376    1611.0    1203.0    1.0\n",
      "b_scale        0.189  0.115     0.061      0.381      0.003    0.013    1563.0    1594.0    1.0\n",
      "g_scale        0.013  0.005     0.006      0.024      0.000    0.000    1047.0     975.0    1.0\n",
      "h_scale        0.282  0.129     0.120      0.524      0.004    0.007    1054.0    1250.0    1.0\n",
      "v_scale        4.547  2.913     0.246     10.230      0.050    0.040    2554.0    1966.0    1.0\n",
      "c₁_scale       3.008  2.633     0.075      8.490      0.051    0.045    2077.0    2303.0    1.0\n",
      "c₂_scale       0.280  0.102     0.125      0.493      0.003    0.003    1194.0    1728.0    1.0\n",
      "a[0, 0]       31.900  0.463    30.731     32.637      0.016    0.021    1815.0     754.0    1.0\n",
      "a[0, 1]       31.609  0.538    30.537     32.577      0.011    0.010    2845.0    2277.0    1.0\n",
      "a[1, 0]       45.521  0.870    43.650     46.427      0.034    0.069    1385.0     650.0    1.0\n",
      "a[1, 1]       44.842  0.815    43.216     46.156      0.017    0.022    2870.0    2747.0    1.0\n",
      "a[2, 0]       30.066  0.431    29.251     30.719      0.010    0.022    2563.0    1600.0    1.0\n",
      "a[2, 1]       31.175  0.673    29.987     32.482      0.012    0.020    3614.0    2677.0    1.0\n",
      "b_raw[0, 0]    1.118  0.479     0.330      2.112      0.011    0.007    1767.0    1753.0    1.0\n",
      "b_raw[0, 1]    1.372  0.550     0.419      2.458      0.010    0.009    2899.0    2533.0    1.0\n",
      "b_raw[1, 0]    0.607  0.356     0.078      1.335      0.010    0.009    1399.0    2050.0    1.0\n",
      "b_raw[1, 1]    0.495  0.312     0.040      1.110      0.006    0.006    1912.0    2230.0    1.0\n",
      "b_raw[2, 0]    0.570  0.305     0.101      1.193      0.007    0.007    1773.0    2025.0    1.0\n",
      "b_raw[2, 1]    0.321  0.215     0.024      0.743      0.005    0.005    1879.0    2145.0    1.0\n",
      "g_raw[0, 0]    1.187  0.389     0.453      1.915      0.012    0.007    1048.0     983.0    1.0\n",
      "g_raw[0, 1]    1.127  0.372     0.457      1.859      0.011    0.007    1038.0    1049.0    1.0\n",
      "g_raw[1, 0]    0.746  0.246     0.303      1.226      0.007    0.005    1056.0     957.0    1.0\n",
      "g_raw[1, 1]    0.640  0.215     0.254      1.063      0.006    0.004    1092.0    1102.0    1.0\n",
      "g_raw[2, 0]    0.569  0.202     0.202      0.955      0.006    0.003    1123.0    1105.0    1.0\n",
      "g_raw[2, 1]    0.692  0.243     0.274      1.198      0.007    0.004    1128.0    1148.0    1.0\n",
      "h_raw[0, 0]    0.981  0.359     0.372      1.716      0.011    0.006    1053.0    1225.0    1.0\n",
      "h_raw[0, 1]    0.665  0.244     0.244      1.165      0.007    0.004    1056.0    1246.0    1.0\n",
      "h_raw[1, 0]    0.769  0.304     0.251      1.373      0.009    0.006    1076.0    1308.0    1.0\n",
      "h_raw[1, 1]    0.649  0.313     0.170      1.260      0.007    0.008    1423.0    1490.0    1.0\n",
      "h_raw[2, 0]    0.941  0.369     0.295      1.657      0.010    0.006    1191.0    1458.0    1.0\n",
      "h_raw[2, 1]    0.991  0.464     0.234      1.933      0.010    0.008    1952.0    2093.0    1.0\n",
      "v_raw[0, 0]    0.975  0.597     0.077      2.158      0.008    0.010    3906.0    2311.0    1.0\n",
      "v_raw[0, 1]    0.936  0.606     0.039      2.113      0.008    0.009    3781.0    2116.0    1.0\n",
      "v_raw[1, 0]    0.646  0.598     0.000      1.819      0.014    0.009    1059.0     727.0    1.0\n",
      "v_raw[1, 1]    0.755  0.603     0.001      1.946      0.010    0.009    2017.0    1373.0    1.0\n",
      "v_raw[2, 0]    0.786  0.608     0.001      1.977      0.010    0.009    2269.0    1195.0    1.0\n",
      "v_raw[2, 1]    0.780  0.602     0.001      1.962      0.009    0.009    2906.0    2006.0    1.0\n",
      "c₁_raw[0, 0]   0.932  0.592     0.045      2.082      0.009    0.009    3525.0    2086.0    1.0\n",
      "c₁_raw[0, 1]   0.927  0.598     0.031      2.074      0.008    0.009    3902.0    2410.0    1.0\n",
      "c₁_raw[1, 0]   0.704  0.621     0.002      1.893      0.011    0.010    1953.0    1767.0    1.0\n",
      "c₁_raw[1, 1]   0.822  0.581     0.006      1.919      0.009    0.009    3242.0    2062.0    1.0\n",
      "c₁_raw[2, 0]   0.318  0.490     0.002      1.418      0.011    0.011    1553.0    3387.0    1.0\n",
      "c₁_raw[2, 1]   0.799  0.600     0.009      2.003      0.008    0.009    3473.0    2772.0    1.0\n",
      "c₂_raw[0, 0]   0.300  0.112     0.116      0.526      0.003    0.002    1364.0    1744.0    1.0\n",
      "c₂_raw[0, 1]   0.503  0.187     0.186      0.869      0.005    0.004    1330.0    1477.0    1.0\n",
      "c₂_raw[1, 0]   0.335  0.131     0.115      0.577      0.004    0.003    1304.0    2088.0    1.0\n",
      "c₂_raw[1, 1]   0.917  0.332     0.341      1.555      0.009    0.006    1383.0    1902.0    1.0\n",
      "c₂_raw[2, 0]   1.239  0.464     0.462      2.167      0.010    0.007    1947.0    2264.0    1.0\n",
      "c₂_raw[2, 1]   1.351  0.469     0.523      2.266      0.012    0.008    1368.0    1682.0    1.0\n"
     ]
    }
   ],
   "source": [
    "# Run\n",
    "mcmc, posterior = model.run(df=df)\n",
    "\n",
    "# Check convergence diagnostics\n",
    "summary_df = model.summary(posterior)\n",
    "print(summary_df.to_string())\n"
   ]
  },
  {
   "cell_type": "markdown",
   "metadata": {},
   "source": [
    "## Visualizing the curves\n"
   ]
  },
  {
   "cell_type": "markdown",
   "metadata": {},
   "source": [
    "Before plotting the curves, we have to generate predictions using the posterior.\n"
   ]
  },
  {
   "cell_type": "code",
   "execution_count": 10,
   "metadata": {},
   "outputs": [],
   "source": [
    "# Create prediction dataframe\n",
    "prediction_df = model.make_prediction_dataset(df=df, num_points=100)\n",
    "\n",
    "# Use the model to predict on the prediction dataframe\n",
    "predictive = model.predict(df=prediction_df, posterior=posterior)\n"
   ]
  },
  {
   "cell_type": "markdown",
   "metadata": {},
   "source": [
    "This returns the posterior predictive distribution. We can use it to plot the estimated curves. Again, we specify the path where the generated PDF will be stored.\n"
   ]
  },
  {
   "cell_type": "code",
   "execution_count": 11,
   "metadata": {},
   "outputs": [],
   "source": [
    "output_path = os.path.join(current_directory, \"curves.pdf\")\n",
    "\n",
    "# Plot recruitment curves\n",
    "model.plot_curves(\n",
    "    df=df,\n",
    "    prediction_df=prediction_df,\n",
    "    predictive=predictive,\n",
    "    posterior=posterior,\n",
    "    encoder=encoder,\n",
    "    output_path=output_path\n",
    ")\n"
   ]
  },
  {
   "cell_type": "code",
   "execution_count": 12,
   "metadata": {
    "tags": [
     "remove-input"
    ]
   },
   "outputs": [
    {
     "data": {
      "image/png": "[encoded data removed]",
      "text/plain": [
       "<Figure size 600x800 with 12 Axes>"
      ]
     },
     "metadata": {},
     "output_type": "display_data"
    }
   ],
   "source": [
    "plot(df, **model.variables, encoder=encoder, posterior=posterior, prediction_df=prediction_df, predictive=predictive)\n"
   ]
  },
  {
   "cell_type": "markdown",
   "metadata": {},
   "source": [
    "In each panel above, the top plot shows the estimated curve overlaid on data, and the bottom plot shows the posterior distribution of the threshold parameter.\n"
   ]
  },
  {
   "cell_type": "markdown",
   "metadata": {},
   "source": [
    "## Mixture extension"
   ]
  },
  {
   "cell_type": "markdown",
   "metadata": {},
   "source": [
    "The curves look good overall, except for participant P1 and muscle FCR, where the growth rate seems to be biased by a few data points. \n",
    "This can be addressed with a mixture model. To enable it, we can add the following line at the end of the [model-building code](build-the-model):\n",
    "\n",
    "```python\n",
    "# Enable mixture model\n",
    "model.use_mixture = True\n"
   ]
  },
  {
   "cell_type": "markdown",
   "metadata": {},
   "source": [
    "## Accessing parameters"
   ]
  },
  {
   "cell_type": "markdown",
   "metadata": {},
   "source": [
    "Each participant, muscle combination is assigned a tuple index, which can be used to access the curve parameters, which are stored in the ``posterior`` dictionary as NumPy arrays. \n",
    "Here we show how to access the threshold parameter.\n"
   ]
  },
  {
   "cell_type": "code",
   "execution_count": 13,
   "metadata": {},
   "outputs": [],
   "source": [
    "from hbmep.util import site\n",
    "\n",
    "# Threshold parameter\n",
    "a = posterior[site.a]\n"
   ]
  },
  {
   "cell_type": "code",
   "execution_count": 14,
   "metadata": {
    "tags": [
     "remove-input"
    ]
   },
   "outputs": [
    {
     "name": "stdout",
     "output_type": "stream",
     "text": [
      "Shape of a:\t(4000, 3, 2)\n",
      "\n",
      "First dimension corresponds to the number of samples:\t\t4000\n",
      "Second dimension corresponds to the number of participants:\t3\n",
      "Last dimension corresponds to the number of muscles:\t\t2\n"
     ]
    }
   ],
   "source": [
    "print(f\"Shape of a:\\t{a.shape}\")\n",
    "print(f\"\\nFirst dimension corresponds to the number of samples:\\t\\t{a.shape[0]}\")\n",
    "print(f\"Second dimension corresponds to the number of participants:\\t{a.shape[1]}\")\n",
    "print(f\"Last dimension corresponds to the number of muscles:\\t\\t{a.shape[2]}\")\n"
   ]
  },
  {
   "cell_type": "markdown",
   "metadata": {},
   "source": [
    "By default, we have 4000 posterior samples (4 chains, 1000 samples each). We can set more chains or samples by updating the [model-building code](build-the-model):\n",
    "\n",
    "```python\n",
    "# Use 10 chains, 2000 samples each, for a total of 20,000 samples\n",
    "model.mcmc_params = {\n",
    "    \"num_chains\": 10,\n",
    "    \"thinning\": 1,\n",
    "    \"num_warmup\": 2000,\n",
    "    \"num_samples\": 2000,\n",
    "}\n"
   ]
  },
  {
   "cell_type": "markdown",
   "metadata": {},
   "source": [
    "The other curve parameters can be accessed similarly using their keys.\n"
   ]
  },
  {
   "cell_type": "code",
   "execution_count": 15,
   "metadata": {},
   "outputs": [
    {
     "name": "stdout",
     "output_type": "stream",
     "text": [
      "b controlds the growth rate\n",
      "g is the offset\n",
      "(g + h) is the saturation\n"
     ]
    }
   ],
   "source": [
    "print(f\"{site.b} controlds the growth rate\")\n",
    "print(f\"{site.g} is the offset\")\n",
    "print(f\"({site.g} + {site.h}) is the saturation\")\n"
   ]
  },
  {
   "cell_type": "markdown",
   "metadata": {},
   "source": [
    "## Saving the model"
   ]
  },
  {
   "cell_type": "markdown",
   "metadata": {},
   "source": [
    "We can save the model, posterior samples, and other objects using pickle for later analysis.\n"
   ]
  },
  {
   "cell_type": "code",
   "execution_count": 16,
   "metadata": {
    "tags": [
     "remove-output"
    ]
   },
   "outputs": [
    {
     "name": "stdout",
     "output_type": "stream",
     "text": [
      "Saved model to /home/vishu/repos/refactor/fix/hbmep/docs/source/tutorials/model.pkl\n",
      "Saved samples to /home/vishu/repos/refactor/fix/hbmep/docs/source/tutorials/inference.pkl\n",
      "Saved MCMC object to mcmc.pkl\n"
     ]
    }
   ],
   "source": [
    "import pickle\n",
    "\n",
    "# Save the model\n",
    "output_path = os.path.join(current_directory, \"model.pkl\")\n",
    "with open(output_path, \"wb\") as f:\n",
    "    pickle.dump((model,), f)\n",
    "print(f\"Saved model to {output_path}\")\n",
    "\n",
    "# Save the dataframe, encoder, and posterior samples\n",
    "output_path = os.path.join(current_directory, \"inference.pkl\")\n",
    "with open(output_path, \"wb\") as f:\n",
    "    pickle.dump((df, encoder, posterior,), f)\n",
    "print(f\"Saved samples to {output_path}\")\n",
    "\n",
    "# Save the MCMC object\n",
    "output_path = os.path.join(model.build_dir, \"mcmc.pkl\")\n",
    "with open(output_path, \"wb\") as f:\n",
    "    pickle.dump((mcmc,), f)\n",
    "print(f\"Saved MCMC object to {output_path}\")\n"
   ]
  },
  {
   "cell_type": "markdown",
   "metadata": {},
   "source": [
    "## Using other functions\n"
   ]
  },
  {
   "cell_type": "markdown",
   "metadata": {},
   "source": [
    "Alternatively, we can use other functions to estimate the recruitment curves. The following choicej are available:\n",
    "\n",
    "* logistic-4, also known as the Boltzmann sigmoid, is the most common function used to estimate recruitment curves\n",
    "* logistic-5, is a more generalized version of logistic-4\n",
    "* rectified-linear\n",
    "\n",
    "If estimating threshold is not important, we recommend using logistic-5 over logistic-4, which has a much better predictive performance.\n"
   ]
  },
  {
   "cell_type": "markdown",
   "metadata": {},
   "source": [
    "For example, to use logistic-5 function, we need to update the [model-building code](build-the-model) and point to it, and rest of the tutorial remains the same.\n",
    "\n",
    "```python\n",
    "# Set the function to logistic-5\n",
    "model._model = model.logistic5\n",
    "```"
   ]
  }
 ],
 "metadata": {
  "kernelspec": {
   "display_name": "Python 3",
   "language": "python",
   "name": "python3"
  },
  "language_info": {
   "codemirror_mode": {
    "name": "ipython",
    "version": 3
   },
   "file_extension": ".py",
   "mimetype": "text/x-python",
   "name": "python",
   "nbconvert_exporter": "python",
   "pygments_lexer": "ipython3",
   "version": "3.11.13"
  }
 },
 "nbformat": 4,
 "nbformat_minor": 2
}
