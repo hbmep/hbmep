{
 "cells": [
  {
   "cell_type": "code",
   "execution_count": 1,
   "metadata": {},
   "outputs": [],
   "source": [
    "%reload_ext autoreload\n",
    "%autoreload 2"
   ]
  },
  {
   "cell_type": "code",
   "execution_count": 2,
   "metadata": {},
   "outputs": [],
   "source": [
    "import os\n",
    "import logging\n",
    "from pathlib import Path\n",
    "from typing import Optional\n",
    "\n",
    "import arviz as az\n",
    "import numpyro\n",
    "\n",
    "from hb_mep.config import HBMepConfig\n",
    "from hb_mep.data_access import DataClass\n",
    "# from hb_mep.models.rats import MixtureModel\n",
    "from hb_mep.models.rats.utils import load_data\n",
    "from hb_mep.utils import plot\n",
    "\n",
    "numpyro.set_platform(\"cpu\")\n",
    "numpyro.set_host_device_count(12)\n",
    "numpyro.enable_x64()\n",
    "\n",
    "PARENT_PATH = Path(os.getcwd()).parent.parent.absolute()\n",
    "FORMAT = \"%(asctime)s - %(name)s - %(levelname)s - %(message)s\"\n",
    "logging.basicConfig(format=FORMAT, level=logging.INFO)\n",
    "\n",
    "\n",
    "import logging\n",
    "from typing import Optional\n",
    "\n",
    "import jax\n",
    "import jax.numpy as jnp\n",
    "import numpy as np\n",
    "import pandas as pd\n",
    "\n",
    "import numpyro\n",
    "import numpyro.distributions as dist\n",
    "from numpyro.infer import MCMC, NUTS, Predictive\n",
    "from numpyro.diagnostics import hpdi\n",
    "\n",
    "from hb_mep.config import HBMepConfig\n",
    "from hb_mep.models.baseline import Baseline\n",
    "from hb_mep.models.utils import Site as site\n",
    "from hb_mep.utils import timing\n",
    "from hb_mep.utils.constants import (\n",
    "    INTENSITY,\n",
    "    RESPONSE,\n",
    "    PARTICIPANT,\n",
    "    FEATURES\n",
    ")"
   ]
  },
  {
   "attachments": {},
   "cell_type": "markdown",
   "metadata": {},
   "source": [
    "#### Load config"
   ]
  },
  {
   "cell_type": "code",
   "execution_count": 3,
   "metadata": {},
   "outputs": [],
   "source": [
    "config = HBMepConfig()\n",
    "config.CURRENT_PATH = PARENT_PATH"
   ]
  },
  {
   "attachments": {},
   "cell_type": "markdown",
   "metadata": {},
   "source": [
    "#### Load data and preprocess"
   ]
  },
  {
   "cell_type": "code",
   "execution_count": 4,
   "metadata": {},
   "outputs": [
    {
     "name": "stderr",
     "output_type": "stream",
     "text": [
      "2023-06-26 15:47:22,771 - hb_mep.utils.utils - INFO - func:load_data took: 1.32 sec\n",
      "2023-06-26 15:47:22,772 - hb_mep.data_access.core - INFO - Processing data ...\n",
      "2023-06-26 15:47:22,853 - hb_mep.utils.utils - INFO - func:preprocess took: 0.08 sec\n",
      "2023-06-26 15:47:22,854 - hb_mep.utils.utils - INFO - func:build took: 0.08 sec\n"
     ]
    }
   ],
   "source": [
    "data = DataClass(config)\n",
    "\n",
    "\"\"\" Load \"\"\"\n",
    "dir_name = \"physio2\"\n",
    "dir = os.path.join(data.data_path, dir_name)\n",
    "participants = range(1, 9)\n",
    "subdir_pattern = [\"*L_CIRC*\"]\n",
    "\n",
    "df, mat, time = load_data(\n",
    "    dir=dir, participants=participants, subdir_pattern=subdir_pattern\n",
    ")\n",
    "\n",
    "\"\"\" Preprocess \"\"\"\n",
    "df, encoder_dict, mat = data.build(df=df, mat=mat)"
   ]
  },
  {
   "cell_type": "code",
   "execution_count": 5,
   "metadata": {},
   "outputs": [],
   "source": [
    "save_path = os.path.join(data.reports_path, \"traces_current.pdf\")\n",
    "plot(\n",
    "    df=df,\n",
    "    save_path=save_path,\n",
    "    encoder_dict=encoder_dict,\n",
    "    mat=mat,\n",
    "    time=time\n",
    ");"
   ]
  },
  {
   "cell_type": "code",
   "execution_count": null,
   "metadata": {},
   "outputs": [],
   "source": []
  }
 ],
 "metadata": {
  "kernelspec": {
   "display_name": ".venv",
   "language": "python",
   "name": "python3"
  },
  "language_info": {
   "codemirror_mode": {
    "name": "ipython",
    "version": 3
   },
   "file_extension": ".py",
   "mimetype": "text/x-python",
   "name": "python",
   "nbconvert_exporter": "python",
   "pygments_lexer": "ipython3",
   "version": "3.9.17"
  },
  "orig_nbformat": 4,
  "vscode": {
   "interpreter": {
    "hash": "850bfd4e6f5ddd996dd5cd5088beecd08558625e274540230e1444ec52025b11"
   }
  }
 },
 "nbformat": 4,
 "nbformat_minor": 2
}
