{
 "cells": [
  {
   "cell_type": "code",
   "execution_count": 1,
   "metadata": {},
   "outputs": [],
   "source": [
    "%reload_ext autoreload\n",
    "%autoreload 2\n",
    "\n",
    "import os\n",
    "import logging\n",
    "import multiprocessing\n",
    "from pathlib import Path\n",
    "\n",
    "import numpyro\n",
    "from hbmep.config import MepConfig\n",
    "from hbmep.dataset import MepDataset\n",
    "from hbmep.models import Model\n",
    "\n",
    "numpyro.set_platform(\"cpu\")\n",
    "cpu_count = multiprocessing.cpu_count() - 2\n",
    "numpyro.set_host_device_count(cpu_count)\n",
    "numpyro.enable_x64()\n",
    "\n",
    "FORMAT = \"%(asctime)s - %(name)s - %(levelname)s - %(message)s\"\n",
    "logging.basicConfig(format=FORMAT, level=logging.INFO)\n",
    "logger = logging.getLogger(__name__)\n"
   ]
  },
  {
   "attachments": {},
   "cell_type": "markdown",
   "metadata": {},
   "source": [
    "#### Load config\n"
   ]
  },
  {
   "cell_type": "code",
   "execution_count": 2,
   "metadata": {},
   "outputs": [
    {
     "name": "stderr",
     "output_type": "stream",
     "text": [
      "2023-07-11 09:13:36,178 - __main__ - INFO - Toml path - /home/vishu/repos/hbmep/config.toml\n",
      "2023-07-11 09:13:36,178 - hbmep.config - INFO - Verifying configuration ...\n",
      "2023-07-11 09:13:36,179 - hbmep.config - INFO - Success!\n"
     ]
    }
   ],
   "source": [
    "# Path to toml file\n",
    "root_path = Path(os.getcwd()).parent.absolute()\n",
    "toml_path = os.path.join(root_path, \"config.toml\")\n",
    "logger.info(f\"Toml path - {toml_path}\")\n",
    "\n",
    "# Load config and validate\n",
    "config = MepConfig(toml_path=toml_path)\n"
   ]
  },
  {
   "attachments": {},
   "cell_type": "markdown",
   "metadata": {},
   "source": [
    "#### Load data and preprocess"
   ]
  },
  {
   "cell_type": "code",
   "execution_count": 3,
   "metadata": {},
   "outputs": [
    {
     "name": "stderr",
     "output_type": "stream",
     "text": [
      "2023-07-11 09:13:36,197 - hbmep.dataset.core - INFO - Initialized /home/vishu/repos/hbmep/reports/test_run_01 for storing artefacts\n",
      "2023-07-11 09:13:36,198 - hbmep.dataset.core - INFO - Copied config to /home/vishu/repos/hbmep/reports/test_run_01\n",
      "2023-07-11 09:13:36,198 - hbmep.dataset.core - INFO - Reading data from /home/vishu/data/mock.csv ...\n",
      "2023-07-11 09:13:36,200 - hbmep.dataset.core - INFO - Processing data ...\n",
      "2023-07-11 09:13:36,202 - hbmep.utils.utils - INFO - func:build took: 0.00 sec\n"
     ]
    }
   ],
   "source": [
    "# Initialize dataset\n",
    "data = MepDataset(config=config)\n",
    "\n",
    "# Preprocess data\n",
    "df, encoder_dict = data.build()\n"
   ]
  },
  {
   "attachments": {},
   "cell_type": "markdown",
   "metadata": {},
   "source": [
    "#### Visualize dataset"
   ]
  },
  {
   "cell_type": "code",
   "execution_count": 4,
   "metadata": {},
   "outputs": [
    {
     "name": "stderr",
     "output_type": "stream",
     "text": [
      "2023-07-11 09:13:37,115 - hbmep.dataset.core - INFO - Saved to /home/vishu/repos/hbmep/reports/test_run_01/dataset.pdf\n",
      "2023-07-11 09:13:37,115 - hbmep.utils.utils - INFO - func:plot took: 0.90 sec\n"
     ]
    }
   ],
   "source": [
    "data.plot(df=df, encoder_dict=encoder_dict)\n"
   ]
  },
  {
   "attachments": {},
   "cell_type": "markdown",
   "metadata": {},
   "source": [
    "#### Initialize model"
   ]
  },
  {
   "cell_type": "code",
   "execution_count": 5,
   "metadata": {},
   "outputs": [
    {
     "name": "stderr",
     "output_type": "stream",
     "text": [
      "2023-07-11 09:14:59,486 - jax._src.xla_bridge - INFO - Unable to initialize backend 'cuda': module 'jaxlib.xla_extension' has no attribute 'GpuAllocatorConfig'\n",
      "2023-07-11 09:14:59,486 - jax._src.xla_bridge - INFO - Unable to initialize backend 'rocm': module 'jaxlib.xla_extension' has no attribute 'GpuAllocatorConfig'\n",
      "2023-07-11 09:14:59,486 - jax._src.xla_bridge - INFO - Unable to initialize backend 'tpu': INVALID_ARGUMENT: TpuPlatform is not available.\n",
      "2023-07-11 09:14:59,487 - jax._src.xla_bridge - INFO - Unable to initialize backend 'plugin': xla_extension has no attributes named get_plugin_device_client. Compile TensorFlow with //tensorflow/compiler/xla/python:enable_plugin_device set to true (defaults to false) to enable this.\n"
     ]
    }
   ],
   "source": [
    "model = Model(config=config)\n"
   ]
  },
  {
   "attachments": {},
   "cell_type": "markdown",
   "metadata": {},
   "source": [
    "Prior predictive check: We can draw from the model to see if it correctly specifies our prior knowledge"
   ]
  },
  {
   "cell_type": "code",
   "execution_count": 6,
   "metadata": {},
   "outputs": [
    {
     "name": "stderr",
     "output_type": "stream",
     "text": [
      "2023-07-11 09:15:11,452 - hbmep.models.baseline - INFO - Saved to /home/vishu/repos/hbmep/reports/test_run_01/prior_predictive_check.pdf\n",
      "2023-07-11 09:15:11,452 - hbmep.utils.utils - INFO - func:render_predictive_check took: 3.93 sec\n"
     ]
    }
   ],
   "source": [
    "model.render_predictive_check(df=df, encoder_dict=encoder_dict)\n"
   ]
  },
  {
   "attachments": {},
   "cell_type": "markdown",
   "metadata": {},
   "source": [
    "#### Run MCMC inference"
   ]
  },
  {
   "cell_type": "code",
   "execution_count": 7,
   "metadata": {},
   "outputs": [
    {
     "name": "stderr",
     "output_type": "stream",
     "text": [
      "2023-07-11 09:15:53,416 - hbmep.models.baseline - INFO - Running inference with rectified_logistic ...\n"
     ]
    },
    {
     "data": {
      "application/vnd.jupyter.widget-view+json": {
       "model_id": "5c9b498e43ba4c61a90be88045c976bb",
       "version_major": 2,
       "version_minor": 0
      },
      "text/plain": [
       "  0%|          | 0/10000 [00:00<?, ?it/s]"
      ]
     },
     "metadata": {},
     "output_type": "display_data"
    },
    {
     "data": {
      "application/vnd.jupyter.widget-view+json": {
       "model_id": "11e6de00f6084daaa8800be565f5d060",
       "version_major": 2,
       "version_minor": 0
      },
      "text/plain": [
       "  0%|          | 0/10000 [00:00<?, ?it/s]"
      ]
     },
     "metadata": {},
     "output_type": "display_data"
    },
    {
     "data": {
      "application/vnd.jupyter.widget-view+json": {
       "model_id": "0b3580d1975d4b549d822ae9b8a3d88e",
       "version_major": 2,
       "version_minor": 0
      },
      "text/plain": [
       "  0%|          | 0/10000 [00:00<?, ?it/s]"
      ]
     },
     "metadata": {},
     "output_type": "display_data"
    },
    {
     "data": {
      "application/vnd.jupyter.widget-view+json": {
       "model_id": "33b17612534e453882ba0c796d426711",
       "version_major": 2,
       "version_minor": 0
      },
      "text/plain": [
       "  0%|          | 0/10000 [00:00<?, ?it/s]"
      ]
     },
     "metadata": {},
     "output_type": "display_data"
    },
    {
     "name": "stderr",
     "output_type": "stream",
     "text": [
      "2023-07-11 09:20:27,584 - hbmep.utils.utils - INFO - func:run_inference took: 4 min and 34.17 sec\n"
     ]
    }
   ],
   "source": [
    "mcmc, posterior_samples = model.run_inference(df=df)\n"
   ]
  },
  {
   "attachments": {},
   "cell_type": "markdown",
   "metadata": {},
   "source": [
    "#### Diagnostics"
   ]
  },
  {
   "cell_type": "code",
   "execution_count": 8,
   "metadata": {},
   "outputs": [
    {
     "name": "stdout",
     "output_type": "stream",
     "text": [
      "\n",
      "                mean       std    median      2.5%     97.5%     n_eff     r_hat\n",
      "  H[0,0,0]      6.01      0.10      6.01      5.82      6.21  27135.74      1.00\n",
      "  H[0,0,1]      3.78      0.06      3.78      3.66      3.89  35528.31      1.00\n",
      "  H[0,1,0]     15.38     24.24      6.37      0.00     61.71  15822.76      1.00\n",
      "  H[0,1,1]      2.51      7.24      0.85      0.00      9.28  13582.87      1.00\n",
      "  H[1,0,0]      4.28      0.19      4.27      3.93      4.68  16206.16      1.00\n",
      "  H[1,0,1]      1.49      0.04      1.49      1.42      1.56  27128.11      1.00\n",
      "  H[1,1,0]     15.59     24.64      6.36      0.00     63.18  15866.57      1.00\n",
      "  H[1,1,1]      2.44      6.42      0.85      0.00      9.22  12944.19      1.00\n",
      "  H[2,0,0]     11.04     15.44      6.23      0.00     37.90  17663.81      1.00\n",
      "  H[2,0,1]      7.37     11.79      3.72      0.00     26.94  16387.25      1.00\n",
      "  H[2,1,0]      0.35      0.02      0.35      0.31      0.39  18217.75      1.00\n",
      "  H[2,1,1]      0.56      0.02      0.56      0.52      0.61  24795.43      1.00\n",
      "  H[3,0,0]     11.05     15.51      6.18      0.00     38.19  16942.91      1.00\n",
      "  H[3,0,1]      7.34     11.89      3.67      0.00     26.77  16050.92      1.00\n",
      "  H[3,1,0]     16.68     24.33      7.51      0.60     64.06  15874.29      1.00\n",
      "  H[3,1,1]      0.64      0.05      0.64      0.55      0.74  18091.04      1.00\n",
      "  L[0,0,0]      0.05      0.01      0.05      0.03      0.06  29943.98      1.00\n",
      "  L[0,0,1]      0.05      0.01      0.05      0.04      0.07  32074.59      1.00\n",
      "  L[0,1,0]      0.02      0.03      0.02      0.00      0.07  21668.47      1.00\n",
      "  L[0,1,1]      0.02      0.02      0.02      0.00      0.07  20559.12      1.00\n",
      "  L[1,0,0]      0.05      0.01      0.05      0.04      0.07  30864.00      1.00\n",
      "  L[1,0,1]      0.02      0.00      0.02      0.02      0.03  31824.85      1.00\n",
      "  L[1,1,0]      0.02      0.03      0.02      0.00      0.07  21626.42      1.00\n",
      "  L[1,1,1]      0.02      0.02      0.02      0.00      0.07  19487.80      1.00\n",
      "  L[2,0,0]      0.04      0.04      0.03      0.00      0.12  23459.58      1.00\n",
      "  L[2,0,1]      0.04      0.04      0.03      0.00      0.11  23306.72      1.00\n",
      "  L[2,1,0]      0.02      0.00      0.02      0.01      0.02  18655.39      1.00\n",
      "  L[2,1,1]      0.02      0.00      0.02      0.02      0.02  15429.18      1.00\n",
      "  L[3,0,0]      0.04      0.04      0.03      0.00      0.12  23914.96      1.00\n",
      "  L[3,0,1]      0.04      0.04      0.03      0.00      0.11  22549.23      1.00\n",
      "  L[3,1,0]      0.02      0.00      0.02      0.02      0.02  23289.81      1.00\n",
      "  L[3,1,1]      0.02      0.00      0.02      0.01      0.02   7898.39      1.00\n",
      "  a[0,0,0]    119.19      2.94    118.57    114.38    125.06  11817.16      1.00\n",
      "  a[0,0,1]    132.31      1.71    132.39    128.74    135.44  28738.15      1.00\n",
      "  a[0,1,0]    118.18     51.38    114.88     18.55    219.15  14447.46      1.00\n",
      "  a[0,1,1]    118.40     51.92    115.49     14.89    218.22  18101.10      1.00\n",
      "  a[1,0,0]    159.39      4.03    159.27    152.39    166.73   7055.23      1.00\n",
      "  a[1,0,1]    164.33      1.26    164.54    161.97    166.41   5655.23      1.00\n",
      "  a[1,1,0]    117.62     50.79    114.73     16.72    214.48  15862.77      1.00\n",
      "  a[1,1,1]    118.49     52.64    115.51     19.83    224.01  16496.95      1.00\n",
      "  a[2,0,0]    143.60     28.64    143.06     85.79    203.16  20010.65      1.00\n",
      "  a[2,0,1]    148.65     26.30    148.83     93.70    202.30  16110.86      1.00\n",
      "  a[2,1,0]     29.16      1.56     29.39     26.00     31.72  13274.31      1.00\n",
      "  a[2,1,1]     29.32      0.68     29.39     27.88     30.42  18733.10      1.00\n",
      "  a[3,0,0]    143.75     28.77    143.10     83.83    201.46  20696.02      1.00\n",
      "  a[3,0,1]    149.08     26.20    148.93     93.06    202.54  15560.41      1.00\n",
      "  a[3,1,0]     39.12      1.98     38.87     35.72     43.12  21347.99      1.00\n",
      "  a[3,1,1]     28.13      0.77     28.08     26.78     29.78  16035.06      1.00\n",
      "  b[0,0,0]      0.06      0.01      0.06      0.03      0.08  14856.65      1.00\n",
      "  b[0,0,1]      0.29      0.13      0.27      0.10      0.55  14524.66      1.00\n",
      "  b[0,1,0]      0.08      0.12      0.04      0.00      0.29  16577.46      1.00\n",
      "  b[0,1,1]      0.09      0.14      0.05      0.00      0.32  16009.98      1.00\n",
      "  b[1,0,0]      0.02      0.01      0.02      0.02      0.04   8688.43      1.00\n",
      "  b[1,0,1]      0.18      0.08      0.17      0.06      0.34  15230.22      1.00\n",
      "  b[1,1,0]      0.08      0.12      0.04      0.00      0.29  16100.57      1.00\n",
      "  b[1,1,1]      0.09      0.14      0.05      0.00      0.32  16701.12      1.00\n",
      "  b[2,0,0]      0.10      0.15      0.05      0.00      0.35  17531.80      1.00\n",
      "  b[2,0,1]      0.29      0.30      0.20      0.00      0.88  21648.79      1.00\n",
      "  b[2,1,0]      0.04      0.01      0.03      0.02      0.07  11897.01      1.00\n",
      "  b[2,1,1]      0.05      0.01      0.05      0.03      0.07  11078.02      1.00\n",
      "  b[3,0,0]      0.10      0.15      0.05      0.00      0.35  17707.37      1.00\n",
      "  b[3,0,1]      0.29      0.30      0.20      0.00      0.87  20822.52      1.00\n",
      "  b[3,1,0]      0.02      0.02      0.02      0.00      0.06  14470.46      1.00\n",
      "  b[3,1,1]      0.02      0.01      0.02      0.01      0.04  11784.17      1.00\n",
      "g_1[0,0,0]     28.49     12.85     29.38      1.83     50.19  18443.94      1.00\n",
      "g_1[0,0,1]     37.83     16.36     39.18      2.23     64.81  14773.47      1.00\n",
      "g_1[0,1,0]    177.08  10866.60     20.03      0.00    247.14  23873.22      1.00\n",
      "g_1[0,1,1]    140.01   4029.41     20.18      0.00    256.94  21781.48      1.00\n",
      "g_1[1,0,0]     21.67      9.80     22.12      0.33     37.58  15475.86      1.00\n",
      "g_1[1,0,1]     59.88     18.24     58.07     26.35     95.95  23921.84      1.00\n",
      "g_1[1,1,0]    123.83   2926.94     20.03      0.00    252.14  21222.51      1.00\n",
      "g_1[1,1,1]    174.99   7145.82     19.95      0.00    243.58  23391.45      1.00\n",
      "g_1[2,0,0]    157.58   6507.85     20.07      0.00    246.46  15644.77      1.00\n",
      "g_1[2,0,1]    140.38   3711.15     20.03      0.00    256.37  20139.72      1.00\n",
      "g_1[2,1,0]     27.72     24.77     20.28      0.00     78.71  15547.03      1.00\n",
      "g_1[2,1,1]     59.45     18.54     59.38     21.83     98.15  10935.34      1.00\n",
      "g_1[3,0,0]    159.40   3940.09     19.87      0.00    243.53  12775.69      1.00\n",
      "g_1[3,0,1]    149.74   4518.48     19.70      0.00    259.75  10696.64      1.00\n",
      "g_1[3,1,0]      1.45      1.33      1.08      0.00      4.12  26556.55      1.00\n",
      "g_1[3,1,1]     43.08     16.28     43.26      9.48     75.57  12531.23      1.00\n",
      "g_2[0,0,0]     12.21     11.67      8.43      0.00     36.12  16721.65      1.00\n",
      "g_2[0,0,1]     13.02     14.06      7.54      0.00     42.63  12949.80      1.00\n",
      "g_2[0,1,0]    127.53   3974.84     19.77      0.00    254.88  21918.86      1.00\n",
      "g_2[0,1,1]    170.63   5959.62     19.99      0.00    267.65  11279.41      1.00\n",
      "g_2[1,0,0]      9.05      8.64      6.27      0.00     26.64  13738.09      1.00\n",
      "g_2[1,0,1]      2.22      3.04      1.20      0.00      7.85  18336.75      1.00\n",
      "g_2[1,1,0]    179.03   4565.38     20.03      0.00    264.39  14518.67      1.00\n",
      "g_2[1,1,1]    451.34  44931.36     19.89      0.00    251.65  18374.66      1.00\n",
      "g_2[2,0,0]    144.27   3029.54     20.16      0.00    251.63  20139.52      1.00\n",
      "g_2[2,0,1]    132.79   2492.50     20.05      0.00    273.11  20658.52      1.00\n",
      "g_2[2,1,0]     25.81     14.55     23.77      0.22     52.67  16379.58      1.00\n",
      "g_2[2,1,1]      2.16      4.98      0.49      0.00     10.77   4527.96      1.00\n",
      "g_2[3,0,0]    117.79   1318.10     20.03      0.00    249.04  17002.74      1.00\n",
      "g_2[3,0,1]    128.15   3412.71     20.13      0.00    246.57  22820.50      1.00\n",
      "g_2[3,1,0]      2.80      1.01      2.69      0.97      4.79  22268.10      1.00\n",
      "g_2[3,1,1]      3.80      5.95      1.42      0.00     16.29   6952.96      1.00\n",
      "  p[0,0,0]      0.24      0.28      0.14      0.00      0.82  16991.99      1.00\n",
      "  p[0,0,1]      0.21      0.27      0.10      0.00      0.76  14878.91      1.00\n",
      "  p[0,1,0]      7.97      6.04      6.70      0.00     19.61  26129.59      1.00\n",
      "  p[0,1,1]      8.04      6.04      6.76      0.00     19.75  28525.78      1.00\n",
      "  p[1,0,0]      0.24      0.29      0.13      0.00      0.82  12472.01      1.00\n",
      "  p[1,0,1]      1.98      0.43      1.93      1.20      2.87  16652.28      1.00\n",
      "  p[1,1,0]      7.97      6.01      6.74      0.00     19.56  26966.46      1.00\n",
      "  p[1,1,1]      8.07      6.05      6.82      0.00     19.74  29293.19      1.00\n",
      "  p[2,0,0]      7.97      6.01      6.70      0.00     19.50  26760.94      1.00\n",
      "  p[2,0,1]      7.99      6.07      6.79      0.00     19.56  25292.16      1.00\n",
      "  p[2,1,0]      0.98      0.25      0.98      0.48      1.46  11558.99      1.00\n",
      "  p[2,1,1]      2.49      0.63      2.53      1.19      3.70   9047.18      1.00\n",
      "  p[3,0,0]      8.01      5.98      6.80      0.00     19.47  28466.01      1.00\n",
      "  p[3,0,1]      7.98      5.97      6.78      0.00     19.58  26571.05      1.00\n",
      "  p[3,1,0]      1.51      0.16      1.51      1.20      1.81  19041.62      1.00\n",
      "  p[3,1,1]      1.88      0.57      1.89      0.74      2.97   9261.59      1.00\n",
      "  v[0,0,0]      2.23      0.80      2.15      0.79      3.77  13451.51      1.00\n",
      "  v[0,0,1]     11.55      5.00     10.58      3.61     21.48  14620.83      1.00\n",
      "  v[0,1,0]      4.98      4.89      3.55      0.00     14.80  20019.05      1.00\n",
      "  v[0,1,1]      1.84      2.49      0.96      0.00      6.57  16774.32      1.00\n",
      "  v[1,0,0]      0.70      0.58      0.57      0.00      1.78   6488.26      1.00\n",
      "  v[1,0,1]     12.66      5.54     11.56      3.85     24.02  15216.54      1.00\n",
      "  v[1,1,0]      5.00      4.90      3.54      0.00     14.61  18619.45      1.00\n",
      "  v[1,1,1]      1.87      2.52      0.97      0.00      6.74  16432.30      1.00\n",
      "  v[2,0,0]      2.33      2.61      1.52      0.00      7.25  18725.81      1.00\n",
      "  v[2,0,1]      7.16      6.07      5.63      0.00     19.11  22250.55      1.00\n",
      "  v[2,1,0]      5.10      4.16      4.11      0.00     13.12  10694.72      1.00\n",
      "  v[2,1,1]      1.39      1.59      0.85      0.00      4.56   9765.89      1.00\n",
      "  v[3,0,0]      2.35      2.59      1.54      0.00      7.27  20009.82      1.00\n",
      "  v[3,0,1]      7.09      6.08      5.52      0.00     18.93  22461.26      1.00\n",
      "  v[3,1,0]      7.52      5.45      6.24      0.00     18.21  14193.61      1.00\n",
      "  v[3,1,1]      1.10      1.21      0.70      0.00      3.49  10652.25      1.00\n",
      "  µ_a[0,0]    143.49     12.97    143.12    117.82    169.54  24083.08      1.00\n",
      "  µ_a[0,1]    148.80     11.80    148.78    125.14    172.29  19397.33      1.00\n",
      "  µ_a[1,0]    116.25     20.75    116.36     76.52    157.48  20632.79      1.00\n",
      "  µ_a[1,1]    116.65     20.62    116.84     75.24    156.56  18924.30      1.00\n",
      "  σ_H[0,0]     13.74     12.90      9.30      2.04     40.06  15508.01      1.00\n",
      "  σ_H[0,1]      9.27     10.64      5.64      1.12     29.83  13055.94      1.00\n",
      "  σ_H[1,0]     19.35     21.34     11.22      0.35     64.97  13482.97      1.00\n",
      "  σ_H[1,1]      3.05      6.39      1.25      0.23     11.06  11354.08      1.00\n",
      "  σ_L[0,0]      0.06      0.02      0.05      0.02      0.10  25965.05      1.00\n",
      "  σ_L[0,1]      0.05      0.02      0.05      0.02      0.09  24620.72      1.00\n",
      "  σ_L[1,0]      0.03      0.02      0.03      0.01      0.07  21188.78      1.00\n",
      "  σ_L[1,1]      0.03      0.02      0.02      0.01      0.06  21105.85      1.00\n",
      "  σ_a[0,0]     24.15      9.17     22.51      9.22     42.17  14187.87      1.00\n",
      "  σ_a[0,1]     21.66      8.93     19.95      7.81     39.70  11286.92      1.00\n",
      "  σ_a[1,0]     47.16     11.60     46.48     24.95     70.12  21838.83      1.00\n",
      "  σ_a[1,1]     48.76     11.41     48.15     26.64     71.24  21248.83      1.00\n",
      "  σ_b[0,0]      0.12      0.13      0.08      0.02      0.37  15884.22      1.00\n",
      "  σ_b[0,1]      0.37      0.20      0.32      0.08      0.77  19300.50      1.00\n",
      "  σ_b[1,0]      0.10      0.11      0.06      0.01      0.32  14452.40      1.00\n",
      "  σ_b[1,1]      0.11      0.12      0.07      0.01      0.35  14486.83      1.00\n",
      "  σ_v[0,0]      2.93      1.87      2.42      0.43      6.73  18626.59      1.00\n",
      "  σ_v[0,1]      8.95      2.82      8.64      3.93     14.57  17034.83      1.00\n",
      "  σ_v[1,0]      6.24      3.06      5.89      0.77     12.14  12349.72      1.00\n",
      "  σ_v[1,1]      2.33      2.07      1.74      0.00      6.43  12019.08      1.00\n",
      "\n",
      "Number of divergences: 0\n"
     ]
    }
   ],
   "source": [
    "mcmc.print_summary(prob=.95)\n"
   ]
  },
  {
   "attachments": {},
   "cell_type": "markdown",
   "metadata": {},
   "source": [
    "#### Plot recruitment curves"
   ]
  },
  {
   "cell_type": "code",
   "execution_count": 9,
   "metadata": {},
   "outputs": [
    {
     "name": "stderr",
     "output_type": "stream",
     "text": [
      "2023-07-11 09:20:39,288 - hbmep.models.baseline - INFO - Saved to /home/vishu/repos/hbmep/reports/test_run_01/recruitment_curves.pdf\n",
      "2023-07-11 09:20:39,288 - hbmep.utils.utils - INFO - func:render_recruitment_curves took: 10.58 sec\n"
     ]
    }
   ],
   "source": [
    "model.render_recruitment_curves(df=df, encoder_dict=encoder_dict, posterior_samples=posterior_samples)\n"
   ]
  },
  {
   "attachments": {},
   "cell_type": "markdown",
   "metadata": {},
   "source": [
    "#### Posterior Predictive Check"
   ]
  },
  {
   "attachments": {},
   "cell_type": "markdown",
   "metadata": {},
   "source": [
    "We can now supply the posterior samples to `render_predictive_check` method to inspect how well our model is able to explain the data"
   ]
  },
  {
   "cell_type": "code",
   "execution_count": 10,
   "metadata": {},
   "outputs": [
    {
     "name": "stderr",
     "output_type": "stream",
     "text": [
      "2023-07-11 09:20:51,900 - hbmep.models.baseline - INFO - Saved to /home/vishu/repos/hbmep/reports/test_run_01/posterior_predictive_check.pdf\n",
      "2023-07-11 09:20:51,902 - hbmep.utils.utils - INFO - func:render_predictive_check took: 12.54 sec\n"
     ]
    }
   ],
   "source": [
    "model.render_predictive_check(df=df, encoder_dict=encoder_dict, posterior_samples=posterior_samples)\n"
   ]
  },
  {
   "cell_type": "code",
   "execution_count": null,
   "metadata": {},
   "outputs": [],
   "source": []
  }
 ],
 "metadata": {
  "kernelspec": {
   "display_name": ".venv",
   "language": "python",
   "name": "python3"
  },
  "language_info": {
   "codemirror_mode": {
    "name": "ipython",
    "version": 3
   },
   "file_extension": ".py",
   "mimetype": "text/x-python",
   "name": "python",
   "nbconvert_exporter": "python",
   "pygments_lexer": "ipython3",
   "version": "3.11.4"
  },
  "orig_nbformat": 4
 },
 "nbformat": 4,
 "nbformat_minor": 2
}
