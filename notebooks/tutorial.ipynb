{
 "cells": [
  {
   "cell_type": "code",
   "execution_count": 1,
   "metadata": {},
   "outputs": [],
   "source": [
    "%reload_ext autoreload\n",
    "%autoreload 2\n",
    "\n",
    "import os\n",
    "import logging\n",
    "import multiprocessing\n",
    "from pathlib import Path\n",
    "\n",
    "import jax\n",
    "import numpyro\n",
    "from hbmep.config import Config\n",
    "from hbmep.model import Model\n",
    "\n",
    "PLATFORM = \"cpu\"\n",
    "jax.config.update(\"jax_platforms\", PLATFORM)\n",
    "numpyro.set_platform(PLATFORM)\n",
    "\n",
    "cpu_count = multiprocessing.cpu_count() - 2\n",
    "numpyro.set_host_device_count(cpu_count)\n",
    "numpyro.enable_x64()\n",
    "\n",
    "FORMAT = \"%(asctime)s - %(name)s - %(levelname)s - %(message)s\"\n",
    "logging.basicConfig(format=FORMAT, level=logging.INFO)\n",
    "logger = logging.getLogger(__name__)\n"
   ]
  },
  {
   "cell_type": "markdown",
   "metadata": {},
   "source": [
    "#### Initialize config and model"
   ]
  },
  {
   "cell_type": "code",
   "execution_count": 2,
   "metadata": {},
   "outputs": [
    {
     "name": "stderr",
     "output_type": "stream",
     "text": [
      "2023-07-31 11:24:38,873 - __main__ - INFO - Toml path - /home/vishu/hbmep/config.toml\n"
     ]
    }
   ],
   "source": [
    "# Path to toml file\n",
    "root_path = Path(os.getcwd()).parent.absolute()\n",
    "toml_path = os.path.join(root_path, \"config.toml\")\n",
    "logger.info(f\"Toml path - {toml_path}\")"
   ]
  },
  {
   "cell_type": "code",
   "execution_count": 3,
   "metadata": {},
   "outputs": [
    {
     "name": "stderr",
     "output_type": "stream",
     "text": [
      "2023-07-31 11:24:38,919 - hbmep.config - INFO - Verifying configuration ...\n",
      "2023-07-31 11:24:38,919 - hbmep.config - INFO - Success!\n",
      "2023-07-31 11:24:38,932 - hbmep.model.baseline - INFO - Initialized model with rectified_logistic link\n"
     ]
    }
   ],
   "source": [
    "# Initialize config and validate\n",
    "config = Config(toml_path=toml_path)\n",
    "\n",
    "# Initialize model\n",
    "model = Model(config=config)"
   ]
  },
  {
   "attachments": {},
   "cell_type": "markdown",
   "metadata": {},
   "source": [
    "#### Load data and preprocess"
   ]
  },
  {
   "cell_type": "code",
   "execution_count": 4,
   "metadata": {},
   "outputs": [
    {
     "name": "stderr",
     "output_type": "stream",
     "text": [
      "2023-07-31 11:24:39,013 - hbmep.dataset.core - INFO - Artefacts will be stored here - /home/vishu/hbmep/reports/mock_test\n",
      "2023-07-31 11:24:39,014 - hbmep.dataset.core - INFO - Copied config to /home/vishu/hbmep/reports/mock_test\n",
      "2023-07-31 11:24:39,015 - hbmep.dataset.core - INFO - Reading data from /home/vishu/data/mock/mock.csv ...\n",
      "2023-07-31 11:24:39,020 - hbmep.dataset.core - INFO - Processing data ...\n",
      "2023-07-31 11:24:39,021 - hbmep.utils.utils - INFO - func:load took: 0.01 sec\n"
     ]
    }
   ],
   "source": [
    "# Preprocess data\n",
    "df, encoder_dict = model.load()\n"
   ]
  },
  {
   "attachments": {},
   "cell_type": "markdown",
   "metadata": {},
   "source": [
    "#### Visualize dataset"
   ]
  },
  {
   "cell_type": "code",
   "execution_count": 5,
   "metadata": {},
   "outputs": [
    {
     "name": "stderr",
     "output_type": "stream",
     "text": [
      "2023-07-31 11:24:39,164 - hbmep.dataset.core - INFO - Plotting dataset ...\n"
     ]
    },
    {
     "name": "stderr",
     "output_type": "stream",
     "text": [
      "2023-07-31 11:24:40,582 - hbmep.dataset.core - INFO - Saved to /home/vishu/hbmep/reports/mock_test/dataset.pdf\n",
      "2023-07-31 11:24:40,583 - hbmep.utils.utils - INFO - func:plot took: 1.42 sec\n"
     ]
    }
   ],
   "source": [
    "model.plot(df=df, encoder_dict=encoder_dict)\n"
   ]
  },
  {
   "attachments": {},
   "cell_type": "markdown",
   "metadata": {},
   "source": [
    "Prior predictive check: We can draw from the model to see if it correctly specifies our prior knowledge"
   ]
  },
  {
   "cell_type": "code",
   "execution_count": 6,
   "metadata": {},
   "outputs": [
    {
     "name": "stderr",
     "output_type": "stream",
     "text": [
      "2023-07-31 11:24:40,666 - hbmep.model.baseline - INFO - Generating predictions ...\n"
     ]
    },
    {
     "name": "stderr",
     "output_type": "stream",
     "text": [
      "2023-07-31 11:24:42,863 - hbmep.utils.utils - INFO - func:predict took: 2.19 sec\n",
      "2023-07-31 11:24:42,865 - hbmep.model.baseline - INFO - Rendering Prior Predictive Check ...\n",
      "2023-07-31 11:24:44,368 - hbmep.model.baseline - INFO - Saved to /home/vishu/hbmep/reports/mock_test/prior_predictive_check.pdf\n",
      "2023-07-31 11:24:44,368 - hbmep.utils.utils - INFO - func:render_predictive_check took: 3.70 sec\n"
     ]
    }
   ],
   "source": [
    "model.render_predictive_check(df=df, encoder_dict=encoder_dict)\n"
   ]
  },
  {
   "attachments": {},
   "cell_type": "markdown",
   "metadata": {},
   "source": [
    "#### Run MCMC inference"
   ]
  },
  {
   "cell_type": "code",
   "execution_count": 7,
   "metadata": {},
   "outputs": [
    {
     "name": "stderr",
     "output_type": "stream",
     "text": [
      "2023-07-31 11:24:44,421 - hbmep.model.baseline - INFO - Running inference with rectified_logistic ...\n"
     ]
    },
    {
     "data": {
      "application/vnd.jupyter.widget-view+json": {
       "model_id": "2539f2cf90da4734b426d40f99b79b44",
       "version_major": 2,
       "version_minor": 0
      },
      "text/plain": [
       "  0%|          | 0/10000 [00:00<?, ?it/s]"
      ]
     },
     "metadata": {},
     "output_type": "display_data"
    },
    {
     "data": {
      "application/vnd.jupyter.widget-view+json": {
       "model_id": "77aa856bb2b94a3e90709b70ddfe9a6a",
       "version_major": 2,
       "version_minor": 0
      },
      "text/plain": [
       "  0%|          | 0/10000 [00:00<?, ?it/s]"
      ]
     },
     "metadata": {},
     "output_type": "display_data"
    },
    {
     "data": {
      "application/vnd.jupyter.widget-view+json": {
       "model_id": "98c37ec8c21d4f8786180bfd23539009",
       "version_major": 2,
       "version_minor": 0
      },
      "text/plain": [
       "  0%|          | 0/10000 [00:00<?, ?it/s]"
      ]
     },
     "metadata": {},
     "output_type": "display_data"
    },
    {
     "data": {
      "application/vnd.jupyter.widget-view+json": {
       "model_id": "c841b8a16d074b03b347679bda4a304a",
       "version_major": 2,
       "version_minor": 0
      },
      "text/plain": [
       "  0%|          | 0/10000 [00:00<?, ?it/s]"
      ]
     },
     "metadata": {},
     "output_type": "display_data"
    },
    {
     "name": "stderr",
     "output_type": "stream",
     "text": [
      "2023-07-31 11:27:00,476 - hbmep.utils.utils - INFO - func:run_inference took: 2 min and 16.06 sec\n"
     ]
    }
   ],
   "source": [
    "mcmc, posterior_samples = model.run_inference(df=df)\n"
   ]
  },
  {
   "attachments": {},
   "cell_type": "markdown",
   "metadata": {},
   "source": [
    "#### Diagnostics"
   ]
  },
  {
   "cell_type": "code",
   "execution_count": 8,
   "metadata": {},
   "outputs": [
    {
     "name": "stdout",
     "output_type": "stream",
     "text": [
      "\n",
      "                mean       std    median      2.5%     97.5%     n_eff     r_hat\n",
      "  H[0,0,0]      6.01      0.10      6.01      5.82      6.21  19746.16      1.00\n",
      "  H[0,0,1]      3.78      0.06      3.78      3.67      3.89  30674.46      1.00\n",
      "  H[0,1,0]      2.86      3.26      1.77      0.00      9.37  16558.84      1.00\n",
      "  H[0,1,1]      1.23      1.64      0.71      0.00      4.18  15102.74      1.00\n",
      "  H[1,0,0]      4.28      0.19      4.27      3.92      4.67  14626.73      1.00\n",
      "  H[1,0,1]      1.49      0.03      1.49      1.42      1.56  21989.13      1.00\n",
      "  H[1,1,0]      2.85      3.28      1.75      0.00      9.31  17274.62      1.00\n",
      "  H[1,1,1]      1.23      1.65      0.70      0.00      4.19  15516.74      1.00\n",
      "  H[2,0,0]      4.55      4.09      3.48      0.00     12.36  23480.17      1.00\n",
      "  H[2,0,1]      3.23      3.10      2.35      0.00      9.31  21911.08      1.00\n",
      "  H[2,1,0]      0.35      0.02      0.34      0.31      0.38  14834.71      1.00\n",
      "  H[2,1,1]      0.56      0.02      0.56      0.52      0.60  23193.35      1.00\n",
      "  H[3,0,0]      4.52      4.07      3.45      0.00     12.44  21966.23      1.00\n",
      "  H[3,0,1]      3.22      3.09      2.33      0.00      9.24  19741.95      1.00\n",
      "  H[3,1,0]      3.70      3.26      2.64      0.62     10.03  13269.22      1.00\n",
      "  H[3,1,1]      0.64      0.05      0.64      0.55      0.74  14710.78      1.00\n",
      "  L[0,0,0]      0.05      0.01      0.05      0.03      0.06  21322.77      1.00\n",
      "  L[0,0,1]      0.05      0.01      0.05      0.04      0.07  24273.46      1.00\n",
      "  L[0,1,0]      0.02      0.03      0.02      0.00      0.07  19045.50      1.00\n",
      "  L[0,1,1]      0.02      0.02      0.02      0.00      0.07  18891.21      1.00\n",
      "  L[1,0,0]      0.05      0.01      0.05      0.04      0.07  11312.75      1.00\n",
      "  L[1,0,1]      0.02      0.00      0.02      0.02      0.03  24437.61      1.00\n",
      "  L[1,1,0]      0.02      0.03      0.02      0.00      0.07  17721.13      1.00\n",
      "  L[1,1,1]      0.02      0.02      0.02      0.00      0.07  18570.35      1.00\n",
      "  L[2,0,0]      0.04      0.04      0.03      0.00      0.12  20806.54      1.00\n",
      "  L[2,0,1]      0.04      0.04      0.03      0.00      0.11  21117.68      1.00\n",
      "  L[2,1,0]      0.02      0.00      0.02      0.01      0.02  20728.00      1.00\n",
      "  L[2,1,1]      0.02      0.00      0.02      0.01      0.02  23122.28      1.00\n",
      "  L[3,0,0]      0.04      0.04      0.03      0.00      0.12  21591.30      1.00\n",
      "  L[3,0,1]      0.04      0.04      0.03      0.00      0.11  21783.21      1.00\n",
      "  L[3,1,0]      0.02      0.00      0.02      0.01      0.03  20954.22      1.00\n",
      "  L[3,1,1]      0.02      0.00      0.02      0.01      0.02  17262.08      1.00\n",
      "  a[0,0,0]    118.72      2.88    118.19    114.08    124.82   8179.80      1.00\n",
      "  a[0,0,1]    132.20      1.72    132.28    128.82    135.52  26731.42      1.00\n",
      "  a[0,1,0]     66.14     53.50     48.98      0.02    174.60  13082.34      1.00\n",
      "  a[0,1,1]     51.12     47.06     32.04      0.01    150.22   7954.06      1.00\n",
      "  a[1,0,0]    159.23      4.66    159.28    152.15    167.02   1100.76      1.00\n",
      "  a[1,0,1]    164.74      0.95    164.83    162.85    166.49  18907.43      1.00\n",
      "  a[1,1,0]     66.21     53.72     48.73      0.01    176.20  12936.43      1.00\n",
      "  a[1,1,1]     51.06     46.68     32.04      0.01    149.45   8225.69      1.00\n",
      "  a[2,0,0]    142.97     49.49    140.99     33.51    240.23  12029.19      1.00\n",
      "  a[2,0,1]    149.07     46.09    148.34     56.71    252.24  12287.72      1.00\n",
      "  a[2,1,0]     28.91      1.56     29.17     25.88     31.39  10089.78      1.00\n",
      "  a[2,1,1]     29.43      0.82     29.52     27.79     30.88  17298.69      1.00\n",
      "  a[3,0,0]    143.19     49.48    141.08     44.63    250.09  13455.60      1.00\n",
      "  a[3,0,1]    149.75     46.32    148.88     50.15    245.75  13259.80      1.00\n",
      "  a[3,1,0]     40.50      3.03     40.46     34.79     46.57  20199.32      1.00\n",
      "  a[3,1,1]     28.14      1.06     28.15     26.11     30.23  14663.59      1.00\n",
      "  b[0,0,0]      0.06      0.01      0.06      0.03      0.08   9384.51      1.00\n",
      "  b[0,0,1]      0.25      0.10      0.24      0.10      0.45  13379.69      1.00\n",
      "  b[0,1,0]      0.05      0.06      0.04      0.00      0.17  19807.09      1.00\n",
      "  b[0,1,1]      0.05      0.05      0.03      0.00      0.16  10361.97      1.00\n",
      "  b[1,0,0]      0.02      0.01      0.02      0.02      0.04   1533.67      1.00\n",
      "  b[1,0,1]      0.19      0.08      0.17      0.07      0.34  12310.68      1.00\n",
      "  b[1,1,0]      0.05      0.06      0.04      0.00      0.16  18661.18      1.00\n",
      "  b[1,1,1]      0.05      0.05      0.04      0.00      0.15  17094.96      1.00\n",
      "  b[2,0,0]      0.06      0.06      0.04      0.00      0.17  19749.97      1.00\n",
      "  b[2,0,1]      0.14      0.12      0.11      0.00      0.37  22688.97      1.00\n",
      "  b[2,1,0]      0.04      0.02      0.04      0.02      0.08  10280.52      1.00\n",
      "  b[2,1,1]      0.05      0.01      0.05      0.03      0.08   2898.13      1.00\n",
      "  b[3,0,0]      0.06      0.06      0.04      0.00      0.17  19488.93      1.00\n",
      "  b[3,0,1]      0.14      0.12      0.11      0.00      0.36  21552.00      1.00\n",
      "  b[3,1,0]      0.04      0.03      0.03      0.00      0.09  10579.93      1.00\n",
      "  b[3,1,1]      0.02      0.01      0.02      0.01      0.04  10425.20      1.00\n",
      "g_1[0,0,0]     39.70      9.10     38.98     22.79     57.91  25240.52      1.00\n",
      "g_1[0,0,1]     51.10     11.08     50.33     30.58     73.41  26325.91      1.00\n",
      "g_1[0,1,0]     99.03     97.72     69.37      0.00    292.09  31298.79      1.00\n",
      "g_1[0,1,1]    100.11     99.66     69.42      0.00    298.41  27321.34      1.00\n",
      "g_1[1,0,0]     29.75      7.26     29.38     15.85     44.28   5816.39      1.00\n",
      "g_1[1,0,1]     56.38     20.76     54.41     17.12     97.27  20900.98      1.00\n",
      "g_1[1,1,0]    100.41    100.04     69.22      0.00    302.78  32005.90      1.00\n",
      "g_1[1,1,1]    100.05     98.57     69.71      0.03    294.63  31895.35      1.00\n",
      "g_1[2,0,0]     99.17     99.79     68.44      0.01    298.60  32760.58      1.00\n",
      "g_1[2,0,1]     98.97     97.99     68.95      0.02    293.94  31854.55      1.00\n",
      "g_1[2,1,0]     35.05     26.16     29.97      0.01     85.32  16335.13      1.00\n",
      "g_1[2,1,1]     31.68     19.70     29.41      0.00     67.39  16740.25      1.00\n",
      "g_1[3,0,0]     99.11     99.77     68.45      0.00    297.15  30095.13      1.00\n",
      "g_1[3,0,1]     99.63     98.30     69.93      0.01    294.61  29082.73      1.00\n",
      "g_1[3,1,0]      1.11      1.06      0.78      0.00      3.24  28977.99      1.00\n",
      "g_1[3,1,1]     30.77     16.62     29.63      0.12     60.07  14289.96      1.00\n",
      "g_2[0,0,0]      0.62      0.53      0.48      0.00      1.66  24496.26      1.00\n",
      "g_2[0,0,1]      0.40      0.38      0.29      0.00      1.16  31976.71      1.00\n",
      "g_2[0,1,0]    100.62    100.38     69.21      0.00    302.90  26132.94      1.00\n",
      "g_2[0,1,1]     99.55    100.42     68.08      0.00    299.66  30854.87      1.00\n",
      "g_2[1,0,0]      0.42      0.39      0.32      0.00      1.15   2098.68      1.00\n",
      "g_2[1,0,1]     18.57      6.38     17.94      7.02     31.45  23734.35      1.00\n",
      "g_2[1,1,0]    100.23    102.04     68.09      0.00    303.33  17908.93      1.00\n",
      "g_2[1,1,1]     99.79     99.84     69.91      0.00    298.53  29349.76      1.00\n",
      "g_2[2,0,0]    100.88    101.82     69.61      0.00    303.80  34009.32      1.00\n",
      "g_2[2,0,1]     99.48    100.40     68.28      0.01    302.11  31969.07      1.00\n",
      "g_2[2,1,0]     23.17      7.85     23.05      7.91     38.39  16253.54      1.00\n",
      "g_2[2,1,1]     21.53      8.61     21.12      5.31     37.71  16469.68      1.00\n",
      "g_2[3,0,0]     98.73     99.01     68.18      0.00    297.95  29236.33      1.00\n",
      "g_2[3,0,1]     99.78    100.79     68.99      0.00    300.08  31286.34      1.00\n",
      "g_2[3,1,0]      5.60      1.18      5.54      3.36      7.93  27148.20      1.00\n",
      "g_2[3,1,1]     13.18      5.70     12.64      2.78     24.22  13532.69      1.00\n",
      "  v[0,0,0]      2.27      0.78      2.19      0.85      3.78   8408.73      1.00\n",
      "  v[0,0,1]      9.97      3.88      9.27      3.67     17.77  13189.22      1.00\n",
      "  v[0,1,0]      8.50      8.40      5.94      0.00     25.08  17572.78      1.00\n",
      "  v[0,1,1]      2.62      3.90      1.24      0.00      9.91  14697.70      1.00\n",
      "  v[1,0,0]      0.74      0.78      0.57      0.00      1.87   1091.41      1.00\n",
      "  v[1,0,1]     13.05      5.34     12.03      4.60     23.86  12343.51      1.00\n",
      "  v[1,1,0]      8.58      8.60      5.98      0.00     25.64  11912.40      1.00\n",
      "  v[1,1,1]      2.59      3.89      1.23      0.00      9.65  15853.01      1.00\n",
      "  v[2,0,0]      3.06      4.02      1.78      0.00     10.30  17670.91      1.00\n",
      "  v[2,0,1]      9.53      8.70      7.19      0.00     26.70  20398.21      1.00\n",
      "  v[2,1,0]      6.91      5.36      5.77      0.00     16.88   9354.32      1.00\n",
      "  v[2,1,1]      1.58      1.77      1.02      0.00      4.95   3307.99      1.00\n",
      "  v[3,0,0]      3.08      3.93      1.79      0.00     10.42  16252.00      1.00\n",
      "  v[3,0,1]      9.56      8.62      7.27      0.00     26.24  19957.90      1.00\n",
      "  v[3,1,0]     11.65      7.96      9.81      0.53     27.26  10663.98      1.00\n",
      "  v[3,1,1]      1.26      1.37      0.81      0.00      4.01   9446.06      1.00\n",
      "  µ_a[0,0]    141.25     24.99    140.69     92.63    196.76  13000.67      1.00\n",
      "  µ_a[0,1]    148.28     23.58    148.43     99.89    198.84  12605.81      1.00\n",
      "  µ_a[1,0]     57.76     33.08     47.36      7.63    129.98  11604.01      1.00\n",
      "  µ_a[1,1]     44.78     29.65     31.62      1.69    111.94   6751.30      1.00\n",
      "  σ_H[0,0]      5.68      2.16      5.26      2.23      9.99  26720.60      1.00\n",
      "  σ_H[0,1]      4.04      1.96      3.58      1.24      7.93  21924.14      1.00\n",
      "  σ_H[1,0]      3.58      2.47      2.91      0.42      8.60  13574.54      1.00\n",
      "  σ_H[1,1]      1.54      1.36      1.07      0.24      4.33  13939.43      1.00\n",
      "  σ_L[0,0]      0.06      0.02      0.05      0.02      0.10  21935.88      1.00\n",
      "  σ_L[0,1]      0.05      0.02      0.05      0.02      0.09  23771.23      1.00\n",
      "  σ_L[1,0]      0.03      0.02      0.03      0.01      0.07  18243.33      1.00\n",
      "  σ_L[1,1]      0.03      0.02      0.02      0.01      0.06  16672.35      1.00\n",
      "  σ_a[0,0]     41.11     22.47     35.76      8.58     85.68   7422.45      1.00\n",
      "  σ_a[0,1]     37.34     22.02     31.67      7.49     81.59   6400.65      1.00\n",
      "  σ_a[1,0]     39.00     29.10     31.76      2.16     96.15   8451.51      1.00\n",
      "  σ_a[1,1]     27.17     29.35     15.45      0.23     87.92   3500.33      1.00\n",
      "  σ_b[0,0]      0.07      0.04      0.06      0.02      0.14  18239.04      1.00\n",
      "  σ_b[0,1]      0.17      0.05      0.17      0.08      0.28  15535.20      1.00\n",
      "  σ_b[1,0]      0.07      0.04      0.06      0.01      0.15  14905.17      1.00\n",
      "  σ_b[1,1]      0.06      0.04      0.05      0.01      0.14  12507.41      1.00\n",
      "  σ_v[0,0]      3.83      3.12      2.83      0.38     10.19  15342.17      1.00\n",
      "  σ_v[0,1]     11.97      4.78     11.20      3.77     21.23  14943.57      1.00\n",
      "  σ_v[1,0]     10.64      5.42      9.83      1.67     21.39  11940.30      1.00\n",
      "  σ_v[1,1]      3.29      3.35      2.24      0.00     10.14  11484.29      1.00\n",
      "\n",
      "Number of divergences: 851\n"
     ]
    }
   ],
   "source": [
    "mcmc.print_summary(prob=.95)\n"
   ]
  },
  {
   "attachments": {},
   "cell_type": "markdown",
   "metadata": {},
   "source": [
    "#### Plot recruitment curves"
   ]
  },
  {
   "cell_type": "code",
   "execution_count": 9,
   "metadata": {},
   "outputs": [
    {
     "name": "stderr",
     "output_type": "stream",
     "text": [
      "2023-07-31 11:27:01,073 - hbmep.model.baseline - INFO - Generating predictions ...\n"
     ]
    },
    {
     "name": "stderr",
     "output_type": "stream",
     "text": [
      "2023-07-31 11:27:07,972 - hbmep.utils.utils - INFO - func:predict took: 6.90 sec\n",
      "2023-07-31 11:27:08,000 - hbmep.model.baseline - INFO - Rendering recruitment curves ...\n",
      "2023-07-31 11:27:11,048 - hbmep.model.baseline - INFO - Saved to /home/vishu/hbmep/reports/mock_test/recruitment_curves.pdf\n",
      "2023-07-31 11:27:11,048 - hbmep.utils.utils - INFO - func:render_recruitment_curves took: 9.98 sec\n"
     ]
    }
   ],
   "source": [
    "model.render_recruitment_curves(df=df, encoder_dict=encoder_dict, posterior_samples=posterior_samples)\n"
   ]
  },
  {
   "attachments": {},
   "cell_type": "markdown",
   "metadata": {},
   "source": [
    "#### Posterior Predictive Check"
   ]
  },
  {
   "attachments": {},
   "cell_type": "markdown",
   "metadata": {},
   "source": [
    "We can now supply the posterior samples to `render_predictive_check` method to inspect how well our model is able to explain the data"
   ]
  },
  {
   "cell_type": "code",
   "execution_count": 10,
   "metadata": {},
   "outputs": [
    {
     "name": "stderr",
     "output_type": "stream",
     "text": [
      "2023-07-31 11:27:11,128 - hbmep.model.baseline - INFO - Generating predictions ...\n"
     ]
    },
    {
     "name": "stderr",
     "output_type": "stream",
     "text": [
      "2023-07-31 11:27:17,928 - hbmep.utils.utils - INFO - func:predict took: 6.80 sec\n",
      "2023-07-31 11:27:17,975 - hbmep.model.baseline - INFO - Rendering Posterior Predictive Check ...\n",
      "2023-07-31 11:27:22,467 - hbmep.model.baseline - INFO - Saved to /home/vishu/hbmep/reports/mock_test/posterior_predictive_check.pdf\n",
      "2023-07-31 11:27:22,468 - hbmep.utils.utils - INFO - func:render_predictive_check took: 11.34 sec\n"
     ]
    }
   ],
   "source": [
    "model.render_predictive_check(df=df, encoder_dict=encoder_dict, posterior_samples=posterior_samples)\n"
   ]
  },
  {
   "cell_type": "code",
   "execution_count": null,
   "metadata": {},
   "outputs": [],
   "source": []
  }
 ],
 "metadata": {
  "kernelspec": {
   "display_name": ".venv",
   "language": "python",
   "name": "python3"
  },
  "language_info": {
   "codemirror_mode": {
    "name": "ipython",
    "version": 3
   },
   "file_extension": ".py",
   "mimetype": "text/x-python",
   "name": "python",
   "nbconvert_exporter": "python",
   "pygments_lexer": "ipython3",
   "version": "3.11.4"
  },
  "orig_nbformat": 4
 },
 "nbformat": 4,
 "nbformat_minor": 2
}
