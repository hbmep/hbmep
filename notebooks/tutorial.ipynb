{
 "cells": [
  {
   "cell_type": "code",
   "execution_count": 1,
   "metadata": {},
   "outputs": [],
   "source": [
    "%reload_ext autoreload\n",
    "%autoreload 2\n",
    "\n",
    "import os\n",
    "import logging\n",
    "import multiprocessing\n",
    "from pathlib import Path\n",
    "\n",
    "import numpyro\n",
    "from hbmep.config import MepConfig\n",
    "from hbmep.dataset import MepDataset\n",
    "from hbmep.models.rats.utils import load_data\n",
    "\n",
    "numpyro.set_platform(\"cpu\")\n",
    "cpu_count = multiprocessing.cpu_count() - 2\n",
    "numpyro.set_host_device_count(cpu_count)\n",
    "numpyro.enable_x64()\n",
    "\n",
    "FORMAT = \"%(asctime)s - %(name)s - %(levelname)s - %(message)s\"\n",
    "logging.basicConfig(format=FORMAT, level=logging.INFO)\n",
    "logger = logging.getLogger(__name__)"
   ]
  },
  {
   "attachments": {},
   "cell_type": "markdown",
   "metadata": {},
   "source": [
    "#### Load config\n"
   ]
  },
  {
   "cell_type": "code",
   "execution_count": 2,
   "metadata": {},
   "outputs": [
    {
     "name": "stderr",
     "output_type": "stream",
     "text": [
      "2023-07-07 13:44:53,161 - __main__ - INFO - Toml path - /home/vishu/repos/hbmep/config.toml\n",
      "2023-07-07 13:44:53,162 - hbmep.config - INFO - Verifying configuration ...\n",
      "2023-07-07 13:44:53,162 - hbmep.config - INFO - Success!\n"
     ]
    }
   ],
   "source": [
    "# Path to toml file\n",
    "root_path = Path(os.getcwd()).parent.absolute()\n",
    "toml_path = os.path.join(root_path, \"config.toml\")\n",
    "logger.info(f\"Toml path - {toml_path}\")\n",
    "\n",
    "# Initialize config\n",
    "config = MepConfig(toml_path=toml_path)\n",
    "\n",
    "# Validate config\n",
    "config.validate()"
   ]
  },
  {
   "attachments": {},
   "cell_type": "markdown",
   "metadata": {},
   "source": [
    "#### Load dataset"
   ]
  },
  {
   "cell_type": "code",
   "execution_count": 3,
   "metadata": {},
   "outputs": [
    {
     "name": "stderr",
     "output_type": "stream",
     "text": [
      "2023-07-07 13:44:53,180 - hbmep.dataset.core - INFO - Initialized /home/vishu/repos/hbmep/reports/TestRun01 for storing artefacts\n",
      "2023-07-07 13:44:53,180 - hbmep.dataset.core - INFO - Copied config to /home/vishu/repos/hbmep/reports/TestRun01\n",
      "2023-07-07 13:44:53,180 - hbmep.dataset.core - INFO - Reading data from /home/vishu/data/mock.csv ...\n",
      "2023-07-07 13:44:53,183 - hbmep.dataset.core - INFO - Processing data ...\n",
      "2023-07-07 13:44:53,187 - hbmep.utils.utils - INFO - func:preprocess took: 0.00 sec\n",
      "2023-07-07 13:44:53,187 - hbmep.utils.utils - INFO - func:build took: 0.01 sec\n"
     ]
    }
   ],
   "source": [
    "# Initialize dataset class\n",
    "data = MepDataset(config=config)\n",
    "\n",
    "# Preprocess data\n",
    "df, encoder_dict, _ = data.build()"
   ]
  },
  {
   "attachments": {},
   "cell_type": "markdown",
   "metadata": {},
   "source": [
    "#### Visualize dataset"
   ]
  },
  {
   "cell_type": "code",
   "execution_count": 4,
   "metadata": {},
   "outputs": [
    {
     "name": "stderr",
     "output_type": "stream",
     "text": [
      "2023-07-07 13:44:58,684 - hbmep.dataset.core - INFO - Saved to /home/vishu/repos/hbmep/reports/TestRun01/dataset.pdf\n",
      "2023-07-07 13:44:58,684 - hbmep.utils.utils - INFO - func:plot took: 0.90 sec\n"
     ]
    }
   ],
   "source": [
    "data.plot(df=df, encoder_dict=encoder_dict)\n"
   ]
  },
  {
   "cell_type": "code",
   "execution_count": null,
   "metadata": {},
   "outputs": [],
   "source": []
  }
 ],
 "metadata": {
  "kernelspec": {
   "display_name": ".venv",
   "language": "python",
   "name": "python3"
  },
  "language_info": {
   "codemirror_mode": {
    "name": "ipython",
    "version": 3
   },
   "file_extension": ".py",
   "mimetype": "text/x-python",
   "name": "python",
   "nbconvert_exporter": "python",
   "pygments_lexer": "ipython3",
   "version": "3.11.4"
  },
  "orig_nbformat": 4
 },
 "nbformat": 4,
 "nbformat_minor": 2
}
